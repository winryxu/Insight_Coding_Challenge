{
 "cells": [
  {
   "cell_type": "code",
   "execution_count": 19,
   "metadata": {},
   "outputs": [],
   "source": [
    "import pandas as pd\n",
    "import csv\n",
    "import sys\n",
    "from math import *\n",
    "import random"
   ]
  },
  {
   "cell_type": "code",
   "execution_count": 20,
   "metadata": {},
   "outputs": [
    {
     "ename": "IndexError",
     "evalue": "list index out of range",
     "output_type": "error",
     "traceback": [
      "\u001b[0;31m---------------------------------------------------------------------------\u001b[0m",
      "\u001b[0;31mIndexError\u001b[0m                                Traceback (most recent call last)",
      "\u001b[0;32m<ipython-input-20-f9644b626ea4>\u001b[0m in \u001b[0;36m<module>\u001b[0;34m()\u001b[0m\n\u001b[1;32m      1\u001b[0m \u001b[0mcon_name\u001b[0m \u001b[0;34m=\u001b[0m \u001b[0msys\u001b[0m\u001b[0;34m.\u001b[0m\u001b[0margv\u001b[0m\u001b[0;34m[\u001b[0m\u001b[0;36m1\u001b[0m\u001b[0;34m]\u001b[0m\u001b[0;34m\u001b[0m\u001b[0m\n\u001b[1;32m      2\u001b[0m \u001b[0mpercent_name\u001b[0m \u001b[0;34m=\u001b[0m \u001b[0msys\u001b[0m\u001b[0;34m.\u001b[0m\u001b[0margv\u001b[0m\u001b[0;34m[\u001b[0m\u001b[0;36m2\u001b[0m\u001b[0;34m]\u001b[0m\u001b[0;34m\u001b[0m\u001b[0m\n\u001b[0;32m----> 3\u001b[0;31m \u001b[0moutput_path\u001b[0m \u001b[0;34m=\u001b[0m \u001b[0msys\u001b[0m\u001b[0;34m.\u001b[0m\u001b[0margv\u001b[0m\u001b[0;34m[\u001b[0m\u001b[0;36m3\u001b[0m\u001b[0;34m]\u001b[0m\u001b[0;34m\u001b[0m\u001b[0m\n\u001b[0m",
      "\u001b[0;31mIndexError\u001b[0m: list index out of range"
     ]
    }
   ],
   "source": [
    "con_name = sys.argv[1]\n",
    "percent_name = sys.argv[2]\n",
    "output_path = sys.argv[3]"
   ]
  },
  {
   "cell_type": "code",
   "execution_count": 21,
   "metadata": {},
   "outputs": [],
   "source": [
    "def read_data(con_name, percent_name):\n",
    "    '''\n",
    "        input data\n",
    "    '''\n",
    "    colnames = ['CMTE_ID', 'AMNDT_IND', 'RPT_TP', 'TRANSACTION_PGI', 'IMAGE_NUM', 'TRANSACTION_TP', 'ENTITY_TP',\n",
    "           'NAME', 'CITY', 'STATE', 'ZIP_CODE', 'EMPLOYER', 'OCCUPATION', 'TRANSACTION_DT', 'TRANSACTION_AMT',\n",
    "           'OTHER_ID', 'TRAN_ID', 'FILE_NUM', 'MEMO_CD', 'MEMO_TEXT', 'SUB_ID']\n",
    "    data = pd.read_csv(con_name, sep=\"|\", header=None, names = colnames, dtype = str)\n",
    "    with open(percent_name,'r') as f:\n",
    "        percentile = f.read()\n",
    "        percentile = percentile.strip()\n",
    "        percentile = int(percentile)\n",
    "    return data, percentile"
   ]
  },
  {
   "cell_type": "code",
   "execution_count": 22,
   "metadata": {},
   "outputs": [],
   "source": [
    "# wait for testing\n",
    "def removed_data(data):\n",
    "    d = data[data['OTHER_ID'].isnull()]\n",
    "    lis = ['TRANSACTION_DT', 'ZIP_CODE', 'NAME', 'CMTE_ID', 'TRANSACTION_AMT']\n",
    "    for i in lis:\n",
    "        d = d[d[i].notnull()]\n",
    "    return d\n",
    "\n",
    "def subset_data(data, l):\n",
    "    '''\n",
    "    l: list of column names\n",
    "    '''\n",
    "    return data[l]"
   ]
  },
  {
   "cell_type": "code",
   "execution_count": 23,
   "metadata": {},
   "outputs": [],
   "source": [
    "def pair_dictionary(data):\n",
    "    '''\n",
    "        make dictionary of unique donors\n",
    "    '''\n",
    "    dic = {}\n",
    "    for i in data.index:\n",
    "        d = data.loc[i]\n",
    "        key = (d['NAME'], d['ZIP_CODE'])\n",
    "        if key in dic.keys():\n",
    "            dic[key].append(i)\n",
    "        else:\n",
    "            dic[key] = [i]\n",
    "    return dic"
   ]
  },
  {
   "cell_type": "code",
   "execution_count": 24,
   "metadata": {},
   "outputs": [],
   "source": [
    "def partial_result(data, dic):\n",
    "    result = []\n",
    "    repeat_amount = []\n",
    "    year = 2019\n",
    "    for i in dic.keys():\n",
    "        n = len(dic[i])\n",
    "        prior = False\n",
    "        first_year = data.loc[dic[i][0]]['TRANSACTION_DT'][-4:]\n",
    "        if n > 1:\n",
    "            for j in xrange(len(dic[i])):\n",
    "                lst = []\n",
    "                tmp_data = data.loc[dic[i][j]]\n",
    "                year = tmp_data['TRANSACTION_DT'][-4:]\n",
    "                prior = int(year) - int(first_year) > 0\n",
    "                if prior:\n",
    "                    lst.append(tmp_data['CMTE_ID'])\n",
    "                    zips = tmp_data['ZIP_CODE'][0:5]\n",
    "                    lst.append(zips)\n",
    "                    lst.append(year)\n",
    "                    if j > 0:\n",
    "                        repeat_amount.append(int(tmp_data['TRANSACTION_AMT']))\n",
    "                    result.append(lst)\n",
    "    return result, repeat_amount"
   ]
  },
  {
   "cell_type": "code",
   "execution_count": 25,
   "metadata": {},
   "outputs": [],
   "source": [
    "def select(repeat_amount, left, right, k):\n",
    "    if right == left:\n",
    "        return repeat_amount[left]\n",
    "    pivot_index = random.randint(left, right)\n",
    "    repeat_amount[left], repeat_amount[pivot_index] = repeat_amount[pivot_index], repeat_amount[left]\n",
    "    i = left\n",
    "    for j in xrange(left+1, right+1):\n",
    "        if repeat_amount[j] < repeat_amount[left]:\n",
    "            i += 1\n",
    "            repeat_amount[i], repeat_amount[j] = repeat_amount[j], repeat_amount[i]\n",
    "    repeat_amount[i], repeat_amount[left] = repeat_amount[left], repeat_amount[i]\n",
    "    if k == i:\n",
    "        return repeat_amount[i]\n",
    "    elif k < i:\n",
    "        return select(repeat_amount, left, i-1, k)\n",
    "    else:\n",
    "        return select(repeat_amount, i+1, right, k)"
   ]
  },
  {
   "cell_type": "code",
   "execution_count": 31,
   "metadata": {},
   "outputs": [],
   "source": [
    "def get_percentile(repeat_amount, p):\n",
    "    n = len(repeat_amount)\n",
    "    percent = ceil(n * p / 100.0)\n",
    "    values = select(repeat_amount, 0, len(repeat_amount) - 1, percent - 1)\n",
    "    return values"
   ]
  },
  {
   "cell_type": "code",
   "execution_count": 27,
   "metadata": {},
   "outputs": [],
   "source": [
    "def final_result(result, repeat_amount, values):\n",
    "    summation = 0\n",
    "    for i in xrange(len(result)):\n",
    "        summation += repeat_amount[i]\n",
    "        result[i].append(values)\n",
    "        result[i].append(summation)\n",
    "        result[i].append(i + 1)\n",
    "    return result"
   ]
  },
  {
   "cell_type": "code",
   "execution_count": 46,
   "metadata": {},
   "outputs": [],
   "source": [
    "def repeat_donation(con_name, percent_name):\n",
    "    data, percentile = read_data(con_name, percent_name)\n",
    "    data = removed_data(data)\n",
    "    lst = ['CMTE_ID','NAME','ZIP_CODE','TRANSACTION_DT', 'TRANSACTION_AMT','OTHER_ID']\n",
    "    data = subset_data(data, lst)\n",
    "    dic = pair_dictionary(data)\n",
    "    result, repeat_amount = partial_result(data, dic)\n",
    "    if len(repeat_amount) == 0: return []\n",
    "    values = get_percentile(repeat_amount, percentile)\n",
    "    result = final_result(result, repeat_amount, values)\n",
    "    return result"
   ]
  },
  {
   "cell_type": "code",
   "execution_count": null,
   "metadata": {},
   "outputs": [],
   "source": [
    "result = repeat_donation(con_name, percent_name)\n",
    "with open(output_path, 'w') as f:\n",
    "    if len(result) == 0: f.write('')\n",
    "    else:\n",
    "        for i in result:\n",
    "            for j in xrange(len(i)):\n",
    "                if j < len(i) - 1:\n",
    "                    f.write(\"%s|\" % i[j])\n",
    "                else:\n",
    "                    f.write(\"%s\\n\" % i[j])"
   ]
  },
  {
   "cell_type": "code",
   "execution_count": null,
   "metadata": {},
   "outputs": [],
   "source": []
  },
  {
   "cell_type": "code",
   "execution_count": null,
   "metadata": {},
   "outputs": [],
   "source": []
  },
  {
   "cell_type": "code",
   "execution_count": null,
   "metadata": {},
   "outputs": [],
   "source": []
  }
 ],
 "metadata": {
  "kernelspec": {
   "display_name": "Python 2",
   "language": "python",
   "name": "python2"
  },
  "language_info": {
   "codemirror_mode": {
    "name": "ipython",
    "version": 2
   },
   "file_extension": ".py",
   "mimetype": "text/x-python",
   "name": "python",
   "nbconvert_exporter": "python",
   "pygments_lexer": "ipython2",
   "version": "2.7.13"
  }
 },
 "nbformat": 4,
 "nbformat_minor": 2
}
